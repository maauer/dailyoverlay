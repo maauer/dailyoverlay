{
  "nbformat": 4,
  "nbformat_minor": 0,
  "metadata": {
    "colab": {
      "name": "Daily_Overlay_v2.1.ipynb",
      "provenance": [],
      "collapsed_sections": []
    },
    "kernelspec": {
      "display_name": "Python 3",
      "language": "python",
      "name": "python3"
    },
    "language_info": {
      "codemirror_mode": {
        "name": "ipython",
        "version": 3
      },
      "file_extension": ".py",
      "mimetype": "text/x-python",
      "name": "python",
      "nbconvert_exporter": "python",
      "pygments_lexer": "ipython3",
      "version": "3.8.6"
    }
  },
  "cells": [
    {
      "cell_type": "code",
      "metadata": {
        "id": "_jnbco-4bXQo"
      },
      "source": [
        "!pip install yfinance plotly\n",
        "import yfinance as yf\n",
        "import pandas as pd\n",
        "import matplotlib.pyplot as plt\n",
        "import plotly.graph_objects as go\n",
        "import datetime as datetime\n",
        "from datetime import date \n",
        "from datetime import timedelta  "
      ],
      "execution_count": null,
      "outputs": []
    },
    {
      "cell_type": "code",
      "metadata": {
        "id": "PdKwZFcgbxwb"
      },
      "source": [
        "SYMBOL = \"U\"\n",
        "tikr = yf.Ticker(SYMBOL)\n",
        "dat = []\n",
        "\n",
        "#get hacky index\n",
        "hist = tikr.history(period=\"1day\", interval=\"1m\", actions=False)\n",
        "df = pd.DataFrame(hist)\n",
        "dfi = df.index\n",
        "\n",
        "start_date = date.today() - timedelta(days=21)\n",
        "end_date = date.today()\n",
        "delta = timedelta(days=1)\n",
        "\n",
        "while start_date <= end_date: # iterate through days\n",
        "    if start_date.weekday() != 6 and start_date.weekday() != 5: # but not weekends the yahoo finance data for weekends is weird\n",
        "        hist = tikr.history(start = start_date, end=start_date + delta, interval=\"1m\", actions=False)\n",
        "        df = pd.DataFrame(hist)\n",
        "        dat.append(go.Candlestick(x=dfi,open=df['Open'],high=df['High'],low=df['Low'],close=df['Close'],name=df.index[0].strftime(\"%Y-%m-%d\")))\n",
        "    start_date = start_date + delta\n",
        "\n",
        "\n",
        "fig = go.Figure(data=dat)\n",
        "fig.update_layout(title=SYMBOL)\n",
        "fig.show()\n"
      ],
      "execution_count": null,
      "outputs": []
    }
  ]
}